{
 "cells": [
  {
   "cell_type": "markdown",
   "metadata": {},
   "source": [
    "# ETL Processes\n",
    "Use this notebook to develop the ETL process for each of your tables before completing the `etl.py` file to load the whole datasets."
   ]
  },
  {
   "cell_type": "code",
   "execution_count": 1,
   "metadata": {},
   "outputs": [],
   "source": [
    "import os\n",
    "import psycopg2\n",
    "import pandas as pd\n",
    "from sql_queries import *"
   ]
  },
  {
   "cell_type": "code",
   "execution_count": 2,
   "metadata": {},
   "outputs": [],
   "source": [
    "conn = psycopg2.connect(\"host=127.0.0.1 dbname=sparkifydb user=student password=student\")\n",
    "cur = conn.cursor()"
   ]
  },
  {
   "cell_type": "code",
   "execution_count": 3,
   "metadata": {},
   "outputs": [],
   "source": [
    "def get_files(file_path):\n",
    "    file_paths = []\n",
    "    for root, _, files in os.walk(file_path):\n",
    "        file_paths.extend([os.path.join(root, file) for file in files if file.endswith(\".json\")])\n",
    "    \n",
    "    return file_paths"
   ]
  },
  {
   "cell_type": "markdown",
   "metadata": {},
   "source": [
    "# Process `song_data`\n",
    "In this first part, you'll perform ETL on the first dataset, `song_data`, to create the `songs` and `artists` dimensional tables.\n",
    "\n",
    "Let's perform ETL on a single song file and load a single record into each table to start.\n",
    "- Use the `get_files` function provided above to get a list of all song JSON files in `data/song_data`\n",
    "- Select the first song in this list\n",
    "- Read the song file and view the data"
   ]
  },
  {
   "cell_type": "code",
   "execution_count": 4,
   "metadata": {},
   "outputs": [],
   "source": [
    "song_files = get_files('data/song_data/')"
   ]
  },
  {
   "cell_type": "code",
   "execution_count": 5,
   "metadata": {},
   "outputs": [
    {
     "name": "stdout",
     "output_type": "stream",
     "text": [
      "data/song_data/A/B/B/TRABBVJ128F92F7EAA.json\n"
     ]
    }
   ],
   "source": [
    "file_path = song_files[0]\n",
    "print(file_path)"
   ]
  },
  {
   "cell_type": "code",
   "execution_count": 6,
   "metadata": {},
   "outputs": [
    {
     "data": {
      "text/html": [
       "<div>\n",
       "<style scoped>\n",
       "    .dataframe tbody tr th:only-of-type {\n",
       "        vertical-align: middle;\n",
       "    }\n",
       "\n",
       "    .dataframe tbody tr th {\n",
       "        vertical-align: top;\n",
       "    }\n",
       "\n",
       "    .dataframe thead th {\n",
       "        text-align: right;\n",
       "    }\n",
       "</style>\n",
       "<table border=\"1\" class=\"dataframe\">\n",
       "  <thead>\n",
       "    <tr style=\"text-align: right;\">\n",
       "      <th></th>\n",
       "      <th>num_songs</th>\n",
       "      <th>artist_id</th>\n",
       "      <th>artist_latitude</th>\n",
       "      <th>artist_longitude</th>\n",
       "      <th>artist_location</th>\n",
       "      <th>artist_name</th>\n",
       "      <th>song_id</th>\n",
       "      <th>title</th>\n",
       "      <th>duration</th>\n",
       "      <th>year</th>\n",
       "    </tr>\n",
       "  </thead>\n",
       "  <tbody>\n",
       "    <tr>\n",
       "      <th>0</th>\n",
       "      <td>1</td>\n",
       "      <td>AREDL271187FB40F44</td>\n",
       "      <td>NaN</td>\n",
       "      <td>NaN</td>\n",
       "      <td></td>\n",
       "      <td>Soul Mekanik</td>\n",
       "      <td>SOPEGZN12AB0181B3D</td>\n",
       "      <td>Get Your Head Stuck On Your Neck</td>\n",
       "      <td>45.66159</td>\n",
       "      <td>0</td>\n",
       "    </tr>\n",
       "  </tbody>\n",
       "</table>\n",
       "</div>"
      ],
      "text/plain": [
       "   num_songs           artist_id  artist_latitude  artist_longitude  \\\n",
       "0          1  AREDL271187FB40F44              NaN               NaN   \n",
       "\n",
       "  artist_location   artist_name             song_id  \\\n",
       "0                  Soul Mekanik  SOPEGZN12AB0181B3D   \n",
       "\n",
       "                              title  duration  year  \n",
       "0  Get Your Head Stuck On Your Neck  45.66159     0  "
      ]
     },
     "execution_count": 6,
     "metadata": {},
     "output_type": "execute_result"
    }
   ],
   "source": [
    "df = pd.read_json(file_path, lines=True)\n",
    "df.head()"
   ]
  },
  {
   "cell_type": "markdown",
   "metadata": {},
   "source": [
    "## #1: `songs` Table\n",
    "#### Extract Data for Songs Table\n",
    "- Select columns for song ID, title, artist ID, year, and duration\n",
    "- Use `df.values` to select just the values from the dataframe\n",
    "- Index to select the first (only) record in the dataframe\n",
    "- Convert the array to a list and set it to `song_data`"
   ]
  },
  {
   "cell_type": "code",
   "execution_count": 7,
   "metadata": {},
   "outputs": [],
   "source": [
    "(_, artist_id, artist_latitude, artist_longitude, artist_location,\n",
    "         artist_name, song_id, title, duration, year) = df.values[0]"
   ]
  },
  {
   "cell_type": "code",
   "execution_count": 8,
   "metadata": {},
   "outputs": [
    {
     "data": {
      "text/plain": [
       "['SOPEGZN12AB0181B3D',\n",
       " 'Get Your Head Stuck On Your Neck',\n",
       " 'AREDL271187FB40F44',\n",
       " 0,\n",
       " 45.66159]"
      ]
     },
     "execution_count": 8,
     "metadata": {},
     "output_type": "execute_result"
    }
   ],
   "source": [
    "# (song_id text, title text, artist_id int, year int, duration numeric)\n",
    "song_data = [song_id, title, artist_id, year, duration]\n",
    "song_data"
   ]
  },
  {
   "cell_type": "markdown",
   "metadata": {},
   "source": [
    "#### Insert Record into Song Table\n",
    "Implement the `song_table_insert` query in `sql_queries.py` and run the cell below to insert a record for this song into the `songs` table. Remember to run `create_tables.py` before running the cell below to ensure you've created/resetted the `songs` table in the sparkify database."
   ]
  },
  {
   "cell_type": "code",
   "execution_count": 9,
   "metadata": {},
   "outputs": [],
   "source": [
    "cur.execute(songs_insert, song_data)\n",
    "conn.commit()"
   ]
  },
  {
   "cell_type": "markdown",
   "metadata": {},
   "source": [
    "Run `test.ipynb` to see if you've successfully added a record to this table."
   ]
  },
  {
   "cell_type": "markdown",
   "metadata": {},
   "source": [
    "## #2: `artists` Table\n",
    "#### Extract Data for Artists Table\n",
    "- Select columns for artist ID, name, location, latitude, and longitude\n",
    "- Use `df.values` to select just the values from the dataframe\n",
    "- Index to select the first (only) record in the dataframe\n",
    "- Convert the array to a list and set it to `artist_data`"
   ]
  },
  {
   "cell_type": "code",
   "execution_count": 10,
   "metadata": {},
   "outputs": [
    {
     "data": {
      "text/plain": [
       "['AREDL271187FB40F44', 'Soul Mekanik', '', nan, nan]"
      ]
     },
     "execution_count": 10,
     "metadata": {},
     "output_type": "execute_result"
    }
   ],
   "source": [
    "#  (artist_id text, name text, location text, latitude float, longitude float)\n",
    "artist_data = [artist_id, artist_name, artist_location, artist_longitude, artist_latitude]\n",
    "artist_data"
   ]
  },
  {
   "cell_type": "markdown",
   "metadata": {},
   "source": [
    "#### Insert Record into Artist Table\n",
    "Implement the `artist_table_insert` query in `sql_queries.py` and run the cell below to insert a record for this song's artist into the `artists` table. Remember to run `create_tables.py` before running the cell below to ensure you've created/resetted the `artists` table in the sparkify database."
   ]
  },
  {
   "cell_type": "code",
   "execution_count": 12,
   "metadata": {},
   "outputs": [],
   "source": [
    "cur.execute(artists_insert, artist_data)\n",
    "conn.commit()"
   ]
  },
  {
   "cell_type": "markdown",
   "metadata": {},
   "source": [
    "Run `test.ipynb` to see if you've successfully added a record to this table."
   ]
  },
  {
   "cell_type": "markdown",
   "metadata": {},
   "source": [
    "# Process `log_data`\n",
    "In this part, you'll perform ETL on the second dataset, `log_data`, to create the `time` and `users` dimensional tables, as well as the `songplays` fact table.\n",
    "\n",
    "Let's perform ETL on a single log file and load a single record into each table.\n",
    "- Use the `get_files` function provided above to get a list of all log JSON files in `data/log_data`\n",
    "- Select the first log file in this list\n",
    "- Read the log file and view the data"
   ]
  },
  {
   "cell_type": "code",
   "execution_count": 13,
   "metadata": {},
   "outputs": [],
   "source": [
    "log_files = get_files('data/log_data/')"
   ]
  },
  {
   "cell_type": "code",
   "execution_count": 14,
   "metadata": {},
   "outputs": [
    {
     "name": "stdout",
     "output_type": "stream",
     "text": [
      "data/log_data/2018/11/2018-11-05-events.json\n"
     ]
    }
   ],
   "source": [
    "file_path = log_files[0]\n",
    "print(file_path)"
   ]
  },
  {
   "cell_type": "code",
   "execution_count": 15,
   "metadata": {},
   "outputs": [
    {
     "name": "stdout",
     "output_type": "stream",
     "text": [
      "7344\n"
     ]
    },
    {
     "data": {
      "text/html": [
       "<div>\n",
       "<style scoped>\n",
       "    .dataframe tbody tr th:only-of-type {\n",
       "        vertical-align: middle;\n",
       "    }\n",
       "\n",
       "    .dataframe tbody tr th {\n",
       "        vertical-align: top;\n",
       "    }\n",
       "\n",
       "    .dataframe thead th {\n",
       "        text-align: right;\n",
       "    }\n",
       "</style>\n",
       "<table border=\"1\" class=\"dataframe\">\n",
       "  <thead>\n",
       "    <tr style=\"text-align: right;\">\n",
       "      <th></th>\n",
       "      <th>artist</th>\n",
       "      <th>auth</th>\n",
       "      <th>firstName</th>\n",
       "      <th>gender</th>\n",
       "      <th>itemInSession</th>\n",
       "      <th>lastName</th>\n",
       "      <th>length</th>\n",
       "      <th>level</th>\n",
       "      <th>location</th>\n",
       "      <th>method</th>\n",
       "      <th>page</th>\n",
       "      <th>registration</th>\n",
       "      <th>sessionId</th>\n",
       "      <th>song</th>\n",
       "      <th>status</th>\n",
       "      <th>ts</th>\n",
       "      <th>userAgent</th>\n",
       "      <th>userId</th>\n",
       "    </tr>\n",
       "  </thead>\n",
       "  <tbody>\n",
       "    <tr>\n",
       "      <th>0</th>\n",
       "      <td>A Fine Frenzy</td>\n",
       "      <td>Logged In</td>\n",
       "      <td>Anabelle</td>\n",
       "      <td>F</td>\n",
       "      <td>0</td>\n",
       "      <td>Simpson</td>\n",
       "      <td>267.91138</td>\n",
       "      <td>free</td>\n",
       "      <td>Philadelphia-Camden-Wilmington, PA-NJ-DE-MD</td>\n",
       "      <td>PUT</td>\n",
       "      <td>NextSong</td>\n",
       "      <td>1.541044e+12</td>\n",
       "      <td>256</td>\n",
       "      <td>Almost Lover (Album Version)</td>\n",
       "      <td>200</td>\n",
       "      <td>1541377992796</td>\n",
       "      <td>\"Mozilla/5.0 (Macintosh; Intel Mac OS X 10_9_4...</td>\n",
       "      <td>69</td>\n",
       "    </tr>\n",
       "    <tr>\n",
       "      <th>1</th>\n",
       "      <td>Nirvana</td>\n",
       "      <td>Logged In</td>\n",
       "      <td>Aleena</td>\n",
       "      <td>F</td>\n",
       "      <td>0</td>\n",
       "      <td>Kirby</td>\n",
       "      <td>214.77832</td>\n",
       "      <td>paid</td>\n",
       "      <td>Waterloo-Cedar Falls, IA</td>\n",
       "      <td>PUT</td>\n",
       "      <td>NextSong</td>\n",
       "      <td>1.541023e+12</td>\n",
       "      <td>237</td>\n",
       "      <td>Serve The Servants</td>\n",
       "      <td>200</td>\n",
       "      <td>1541381242796</td>\n",
       "      <td>Mozilla/5.0 (Macintosh; Intel Mac OS X 10.9; r...</td>\n",
       "      <td>44</td>\n",
       "    </tr>\n",
       "    <tr>\n",
       "      <th>2</th>\n",
       "      <td>Television</td>\n",
       "      <td>Logged In</td>\n",
       "      <td>Aleena</td>\n",
       "      <td>F</td>\n",
       "      <td>1</td>\n",
       "      <td>Kirby</td>\n",
       "      <td>238.49751</td>\n",
       "      <td>paid</td>\n",
       "      <td>Waterloo-Cedar Falls, IA</td>\n",
       "      <td>PUT</td>\n",
       "      <td>NextSong</td>\n",
       "      <td>1.541023e+12</td>\n",
       "      <td>237</td>\n",
       "      <td>See No Evil  (Remastered LP Version)</td>\n",
       "      <td>200</td>\n",
       "      <td>1541381456796</td>\n",
       "      <td>Mozilla/5.0 (Macintosh; Intel Mac OS X 10.9; r...</td>\n",
       "      <td>44</td>\n",
       "    </tr>\n",
       "    <tr>\n",
       "      <th>3</th>\n",
       "      <td>JOHN COLTRANE</td>\n",
       "      <td>Logged In</td>\n",
       "      <td>Aleena</td>\n",
       "      <td>F</td>\n",
       "      <td>2</td>\n",
       "      <td>Kirby</td>\n",
       "      <td>346.43546</td>\n",
       "      <td>paid</td>\n",
       "      <td>Waterloo-Cedar Falls, IA</td>\n",
       "      <td>PUT</td>\n",
       "      <td>NextSong</td>\n",
       "      <td>1.541023e+12</td>\n",
       "      <td>237</td>\n",
       "      <td>Blues To Bechet (LP Version)</td>\n",
       "      <td>200</td>\n",
       "      <td>1541381694796</td>\n",
       "      <td>Mozilla/5.0 (Macintosh; Intel Mac OS X 10.9; r...</td>\n",
       "      <td>44</td>\n",
       "    </tr>\n",
       "    <tr>\n",
       "      <th>4</th>\n",
       "      <td>NOFX</td>\n",
       "      <td>Logged In</td>\n",
       "      <td>Aleena</td>\n",
       "      <td>F</td>\n",
       "      <td>3</td>\n",
       "      <td>Kirby</td>\n",
       "      <td>80.79628</td>\n",
       "      <td>paid</td>\n",
       "      <td>Waterloo-Cedar Falls, IA</td>\n",
       "      <td>PUT</td>\n",
       "      <td>NextSong</td>\n",
       "      <td>1.541023e+12</td>\n",
       "      <td>237</td>\n",
       "      <td>It's My Job To Keep Punk Rock Elite</td>\n",
       "      <td>200</td>\n",
       "      <td>1541382040796</td>\n",
       "      <td>Mozilla/5.0 (Macintosh; Intel Mac OS X 10.9; r...</td>\n",
       "      <td>44</td>\n",
       "    </tr>\n",
       "  </tbody>\n",
       "</table>\n",
       "</div>"
      ],
      "text/plain": [
       "          artist       auth firstName gender  itemInSession lastName  \\\n",
       "0  A Fine Frenzy  Logged In  Anabelle      F              0  Simpson   \n",
       "1        Nirvana  Logged In    Aleena      F              0    Kirby   \n",
       "2     Television  Logged In    Aleena      F              1    Kirby   \n",
       "3  JOHN COLTRANE  Logged In    Aleena      F              2    Kirby   \n",
       "4           NOFX  Logged In    Aleena      F              3    Kirby   \n",
       "\n",
       "      length level                                     location method  \\\n",
       "0  267.91138  free  Philadelphia-Camden-Wilmington, PA-NJ-DE-MD    PUT   \n",
       "1  214.77832  paid                     Waterloo-Cedar Falls, IA    PUT   \n",
       "2  238.49751  paid                     Waterloo-Cedar Falls, IA    PUT   \n",
       "3  346.43546  paid                     Waterloo-Cedar Falls, IA    PUT   \n",
       "4   80.79628  paid                     Waterloo-Cedar Falls, IA    PUT   \n",
       "\n",
       "       page  registration  sessionId                                  song  \\\n",
       "0  NextSong  1.541044e+12        256          Almost Lover (Album Version)   \n",
       "1  NextSong  1.541023e+12        237                    Serve The Servants   \n",
       "2  NextSong  1.541023e+12        237  See No Evil  (Remastered LP Version)   \n",
       "3  NextSong  1.541023e+12        237          Blues To Bechet (LP Version)   \n",
       "4  NextSong  1.541023e+12        237   It's My Job To Keep Punk Rock Elite   \n",
       "\n",
       "   status             ts                                          userAgent  \\\n",
       "0     200  1541377992796  \"Mozilla/5.0 (Macintosh; Intel Mac OS X 10_9_4...   \n",
       "1     200  1541381242796  Mozilla/5.0 (Macintosh; Intel Mac OS X 10.9; r...   \n",
       "2     200  1541381456796  Mozilla/5.0 (Macintosh; Intel Mac OS X 10.9; r...   \n",
       "3     200  1541381694796  Mozilla/5.0 (Macintosh; Intel Mac OS X 10.9; r...   \n",
       "4     200  1541382040796  Mozilla/5.0 (Macintosh; Intel Mac OS X 10.9; r...   \n",
       "\n",
       "  userId  \n",
       "0     69  \n",
       "1     44  \n",
       "2     44  \n",
       "3     44  \n",
       "4     44  "
      ]
     },
     "execution_count": 15,
     "metadata": {},
     "output_type": "execute_result"
    }
   ],
   "source": [
    "df = pd.read_json(file_path, lines=True)\n",
    "print(df.size)\n",
    "df.head()"
   ]
  },
  {
   "cell_type": "markdown",
   "metadata": {},
   "source": [
    "## #3: `time` Table\n",
    "#### Extract Data for Time Table\n",
    "- Filter records by `NextSong` action\n",
    "- Convert the `ts` timestamp column to datetime\n",
    "  - Hint: the current timestamp is in milliseconds\n",
    "- Extract the timestamp, hour, day, week of year, month, year, and weekday from the `ts` column and set `time_data` to a list containing these values in order\n",
    "  - Hint: use pandas' [`dt` attribute](https://pandas.pydata.org/pandas-docs/stable/reference/api/pandas.Series.dt.html) to access easily datetimelike properties.\n",
    "- Specify labels for these columns and set to `column_labels`\n",
    "- Create a dataframe, `time_df,` containing the time data for this file by combining `column_labels` and `time_data` into a dictionary and converting this into a dataframe"
   ]
  },
  {
   "cell_type": "code",
   "execution_count": 16,
   "metadata": {},
   "outputs": [
    {
     "name": "stdout",
     "output_type": "stream",
     "text": [
      "6408\n"
     ]
    },
    {
     "data": {
      "text/html": [
       "<div>\n",
       "<style scoped>\n",
       "    .dataframe tbody tr th:only-of-type {\n",
       "        vertical-align: middle;\n",
       "    }\n",
       "\n",
       "    .dataframe tbody tr th {\n",
       "        vertical-align: top;\n",
       "    }\n",
       "\n",
       "    .dataframe thead th {\n",
       "        text-align: right;\n",
       "    }\n",
       "</style>\n",
       "<table border=\"1\" class=\"dataframe\">\n",
       "  <thead>\n",
       "    <tr style=\"text-align: right;\">\n",
       "      <th></th>\n",
       "      <th>artist</th>\n",
       "      <th>auth</th>\n",
       "      <th>firstName</th>\n",
       "      <th>gender</th>\n",
       "      <th>itemInSession</th>\n",
       "      <th>lastName</th>\n",
       "      <th>length</th>\n",
       "      <th>level</th>\n",
       "      <th>location</th>\n",
       "      <th>method</th>\n",
       "      <th>page</th>\n",
       "      <th>registration</th>\n",
       "      <th>sessionId</th>\n",
       "      <th>song</th>\n",
       "      <th>status</th>\n",
       "      <th>ts</th>\n",
       "      <th>userAgent</th>\n",
       "      <th>userId</th>\n",
       "    </tr>\n",
       "  </thead>\n",
       "  <tbody>\n",
       "    <tr>\n",
       "      <th>0</th>\n",
       "      <td>A Fine Frenzy</td>\n",
       "      <td>Logged In</td>\n",
       "      <td>Anabelle</td>\n",
       "      <td>F</td>\n",
       "      <td>0</td>\n",
       "      <td>Simpson</td>\n",
       "      <td>267.91138</td>\n",
       "      <td>free</td>\n",
       "      <td>Philadelphia-Camden-Wilmington, PA-NJ-DE-MD</td>\n",
       "      <td>PUT</td>\n",
       "      <td>NextSong</td>\n",
       "      <td>1.541044e+12</td>\n",
       "      <td>256</td>\n",
       "      <td>Almost Lover (Album Version)</td>\n",
       "      <td>200</td>\n",
       "      <td>1541377992796</td>\n",
       "      <td>\"Mozilla/5.0 (Macintosh; Intel Mac OS X 10_9_4...</td>\n",
       "      <td>69</td>\n",
       "    </tr>\n",
       "    <tr>\n",
       "      <th>1</th>\n",
       "      <td>Nirvana</td>\n",
       "      <td>Logged In</td>\n",
       "      <td>Aleena</td>\n",
       "      <td>F</td>\n",
       "      <td>0</td>\n",
       "      <td>Kirby</td>\n",
       "      <td>214.77832</td>\n",
       "      <td>paid</td>\n",
       "      <td>Waterloo-Cedar Falls, IA</td>\n",
       "      <td>PUT</td>\n",
       "      <td>NextSong</td>\n",
       "      <td>1.541023e+12</td>\n",
       "      <td>237</td>\n",
       "      <td>Serve The Servants</td>\n",
       "      <td>200</td>\n",
       "      <td>1541381242796</td>\n",
       "      <td>Mozilla/5.0 (Macintosh; Intel Mac OS X 10.9; r...</td>\n",
       "      <td>44</td>\n",
       "    </tr>\n",
       "    <tr>\n",
       "      <th>2</th>\n",
       "      <td>Television</td>\n",
       "      <td>Logged In</td>\n",
       "      <td>Aleena</td>\n",
       "      <td>F</td>\n",
       "      <td>1</td>\n",
       "      <td>Kirby</td>\n",
       "      <td>238.49751</td>\n",
       "      <td>paid</td>\n",
       "      <td>Waterloo-Cedar Falls, IA</td>\n",
       "      <td>PUT</td>\n",
       "      <td>NextSong</td>\n",
       "      <td>1.541023e+12</td>\n",
       "      <td>237</td>\n",
       "      <td>See No Evil  (Remastered LP Version)</td>\n",
       "      <td>200</td>\n",
       "      <td>1541381456796</td>\n",
       "      <td>Mozilla/5.0 (Macintosh; Intel Mac OS X 10.9; r...</td>\n",
       "      <td>44</td>\n",
       "    </tr>\n",
       "    <tr>\n",
       "      <th>3</th>\n",
       "      <td>JOHN COLTRANE</td>\n",
       "      <td>Logged In</td>\n",
       "      <td>Aleena</td>\n",
       "      <td>F</td>\n",
       "      <td>2</td>\n",
       "      <td>Kirby</td>\n",
       "      <td>346.43546</td>\n",
       "      <td>paid</td>\n",
       "      <td>Waterloo-Cedar Falls, IA</td>\n",
       "      <td>PUT</td>\n",
       "      <td>NextSong</td>\n",
       "      <td>1.541023e+12</td>\n",
       "      <td>237</td>\n",
       "      <td>Blues To Bechet (LP Version)</td>\n",
       "      <td>200</td>\n",
       "      <td>1541381694796</td>\n",
       "      <td>Mozilla/5.0 (Macintosh; Intel Mac OS X 10.9; r...</td>\n",
       "      <td>44</td>\n",
       "    </tr>\n",
       "    <tr>\n",
       "      <th>4</th>\n",
       "      <td>NOFX</td>\n",
       "      <td>Logged In</td>\n",
       "      <td>Aleena</td>\n",
       "      <td>F</td>\n",
       "      <td>3</td>\n",
       "      <td>Kirby</td>\n",
       "      <td>80.79628</td>\n",
       "      <td>paid</td>\n",
       "      <td>Waterloo-Cedar Falls, IA</td>\n",
       "      <td>PUT</td>\n",
       "      <td>NextSong</td>\n",
       "      <td>1.541023e+12</td>\n",
       "      <td>237</td>\n",
       "      <td>It's My Job To Keep Punk Rock Elite</td>\n",
       "      <td>200</td>\n",
       "      <td>1541382040796</td>\n",
       "      <td>Mozilla/5.0 (Macintosh; Intel Mac OS X 10.9; r...</td>\n",
       "      <td>44</td>\n",
       "    </tr>\n",
       "  </tbody>\n",
       "</table>\n",
       "</div>"
      ],
      "text/plain": [
       "          artist       auth firstName gender  itemInSession lastName  \\\n",
       "0  A Fine Frenzy  Logged In  Anabelle      F              0  Simpson   \n",
       "1        Nirvana  Logged In    Aleena      F              0    Kirby   \n",
       "2     Television  Logged In    Aleena      F              1    Kirby   \n",
       "3  JOHN COLTRANE  Logged In    Aleena      F              2    Kirby   \n",
       "4           NOFX  Logged In    Aleena      F              3    Kirby   \n",
       "\n",
       "      length level                                     location method  \\\n",
       "0  267.91138  free  Philadelphia-Camden-Wilmington, PA-NJ-DE-MD    PUT   \n",
       "1  214.77832  paid                     Waterloo-Cedar Falls, IA    PUT   \n",
       "2  238.49751  paid                     Waterloo-Cedar Falls, IA    PUT   \n",
       "3  346.43546  paid                     Waterloo-Cedar Falls, IA    PUT   \n",
       "4   80.79628  paid                     Waterloo-Cedar Falls, IA    PUT   \n",
       "\n",
       "       page  registration  sessionId                                  song  \\\n",
       "0  NextSong  1.541044e+12        256          Almost Lover (Album Version)   \n",
       "1  NextSong  1.541023e+12        237                    Serve The Servants   \n",
       "2  NextSong  1.541023e+12        237  See No Evil  (Remastered LP Version)   \n",
       "3  NextSong  1.541023e+12        237          Blues To Bechet (LP Version)   \n",
       "4  NextSong  1.541023e+12        237   It's My Job To Keep Punk Rock Elite   \n",
       "\n",
       "   status             ts                                          userAgent  \\\n",
       "0     200  1541377992796  \"Mozilla/5.0 (Macintosh; Intel Mac OS X 10_9_4...   \n",
       "1     200  1541381242796  Mozilla/5.0 (Macintosh; Intel Mac OS X 10.9; r...   \n",
       "2     200  1541381456796  Mozilla/5.0 (Macintosh; Intel Mac OS X 10.9; r...   \n",
       "3     200  1541381694796  Mozilla/5.0 (Macintosh; Intel Mac OS X 10.9; r...   \n",
       "4     200  1541382040796  Mozilla/5.0 (Macintosh; Intel Mac OS X 10.9; r...   \n",
       "\n",
       "  userId  \n",
       "0     69  \n",
       "1     44  \n",
       "2     44  \n",
       "3     44  \n",
       "4     44  "
      ]
     },
     "execution_count": 16,
     "metadata": {},
     "output_type": "execute_result"
    }
   ],
   "source": [
    "df = df[df['page']=='NextSong']\n",
    "print(df.size)\n",
    "df.head()"
   ]
  },
  {
   "cell_type": "code",
   "execution_count": 18,
   "metadata": {},
   "outputs": [
    {
     "data": {
      "text/plain": [
       "0   2018-11-05 00:33:12.796\n",
       "1   2018-11-05 01:27:22.796\n",
       "2   2018-11-05 01:30:56.796\n",
       "3   2018-11-05 01:34:54.796\n",
       "4   2018-11-05 01:40:40.796\n",
       "Name: ts, dtype: datetime64[ns]"
      ]
     },
     "execution_count": 18,
     "metadata": {},
     "output_type": "execute_result"
    }
   ],
   "source": [
    "t = pd.to_datetime(df['ts'], unit='ms') \n",
    "t.head()"
   ]
  },
  {
   "cell_type": "code",
   "execution_count": 19,
   "metadata": {},
   "outputs": [],
   "source": [
    "# Extract the timestamp, hour, day, week of year, month, year, and weekday from the ts column and set time_data to a list containing these values in order\n",
    "time_data = [[line, line.hour, line.day, line.week, line.month, line.year, line.day_name()] for line in t]\n",
    "for row in time_data:\n",
    "    cur.execute(time_insert, row)\n",
    "column_labels = ('start_time', 'hour', 'day', 'week', 'month', 'year', 'weekday')"
   ]
  },
  {
   "cell_type": "code",
   "execution_count": 20,
   "metadata": {},
   "outputs": [
    {
     "data": {
      "text/plain": [
       "[Timestamp('2018-11-05 01:27:22.796000'), 1, 5, 45, 11, 2018, 'Monday']"
      ]
     },
     "execution_count": 20,
     "metadata": {},
     "output_type": "execute_result"
    }
   ],
   "source": [
    "time_data[1]"
   ]
  },
  {
   "cell_type": "code",
   "execution_count": 21,
   "metadata": {},
   "outputs": [
    {
     "data": {
      "text/html": [
       "<div>\n",
       "<style scoped>\n",
       "    .dataframe tbody tr th:only-of-type {\n",
       "        vertical-align: middle;\n",
       "    }\n",
       "\n",
       "    .dataframe tbody tr th {\n",
       "        vertical-align: top;\n",
       "    }\n",
       "\n",
       "    .dataframe thead th {\n",
       "        text-align: right;\n",
       "    }\n",
       "</style>\n",
       "<table border=\"1\" class=\"dataframe\">\n",
       "  <thead>\n",
       "    <tr style=\"text-align: right;\">\n",
       "      <th></th>\n",
       "      <th>start_time</th>\n",
       "      <th>hour</th>\n",
       "      <th>day</th>\n",
       "      <th>week</th>\n",
       "      <th>month</th>\n",
       "      <th>year</th>\n",
       "      <th>weekday</th>\n",
       "    </tr>\n",
       "  </thead>\n",
       "  <tbody>\n",
       "    <tr>\n",
       "      <th>0</th>\n",
       "      <td>2018-11-05 00:33:12.796</td>\n",
       "      <td>0</td>\n",
       "      <td>5</td>\n",
       "      <td>45</td>\n",
       "      <td>11</td>\n",
       "      <td>2018</td>\n",
       "      <td>Monday</td>\n",
       "    </tr>\n",
       "    <tr>\n",
       "      <th>1</th>\n",
       "      <td>2018-11-05 01:27:22.796</td>\n",
       "      <td>1</td>\n",
       "      <td>5</td>\n",
       "      <td>45</td>\n",
       "      <td>11</td>\n",
       "      <td>2018</td>\n",
       "      <td>Monday</td>\n",
       "    </tr>\n",
       "    <tr>\n",
       "      <th>2</th>\n",
       "      <td>2018-11-05 01:30:56.796</td>\n",
       "      <td>1</td>\n",
       "      <td>5</td>\n",
       "      <td>45</td>\n",
       "      <td>11</td>\n",
       "      <td>2018</td>\n",
       "      <td>Monday</td>\n",
       "    </tr>\n",
       "    <tr>\n",
       "      <th>3</th>\n",
       "      <td>2018-11-05 01:34:54.796</td>\n",
       "      <td>1</td>\n",
       "      <td>5</td>\n",
       "      <td>45</td>\n",
       "      <td>11</td>\n",
       "      <td>2018</td>\n",
       "      <td>Monday</td>\n",
       "    </tr>\n",
       "    <tr>\n",
       "      <th>4</th>\n",
       "      <td>2018-11-05 01:40:40.796</td>\n",
       "      <td>1</td>\n",
       "      <td>5</td>\n",
       "      <td>45</td>\n",
       "      <td>11</td>\n",
       "      <td>2018</td>\n",
       "      <td>Monday</td>\n",
       "    </tr>\n",
       "  </tbody>\n",
       "</table>\n",
       "</div>"
      ],
      "text/plain": [
       "               start_time  hour  day  week  month  year weekday\n",
       "0 2018-11-05 00:33:12.796     0    5    45     11  2018  Monday\n",
       "1 2018-11-05 01:27:22.796     1    5    45     11  2018  Monday\n",
       "2 2018-11-05 01:30:56.796     1    5    45     11  2018  Monday\n",
       "3 2018-11-05 01:34:54.796     1    5    45     11  2018  Monday\n",
       "4 2018-11-05 01:40:40.796     1    5    45     11  2018  Monday"
      ]
     },
     "execution_count": 21,
     "metadata": {},
     "output_type": "execute_result"
    }
   ],
   "source": [
    "# Create a dataframe, time_df, containing the time data for this file by combining column_labels and time_data into a dictionary and converting this into a dataframe\n",
    "time_df = pd.DataFrame.from_records(time_data, columns=column_labels)\n",
    "time_df.head()"
   ]
  },
  {
   "cell_type": "markdown",
   "metadata": {},
   "source": [
    "#### Insert Records into Time Table\n",
    "Implement the `time_table_insert` query in `sql_queries.py` and run the cell below to insert records for the timestamps in this log file into the `time` table. Remember to run `create_tables.py` before running the cell below to ensure you've created/resetted the `time` table in the sparkify database."
   ]
  },
  {
   "cell_type": "code",
   "execution_count": 23,
   "metadata": {},
   "outputs": [],
   "source": [
    "for _, row in time_df.iterrows():\n",
    "    cur.execute(time_insert, list(row))\n",
    "    conn.commit()"
   ]
  },
  {
   "cell_type": "markdown",
   "metadata": {},
   "source": [
    "Run `test.ipynb` to see if you've successfully added records to this table."
   ]
  },
  {
   "cell_type": "markdown",
   "metadata": {},
   "source": [
    "## #4: `users` Table\n",
    "#### Extract Data for Users Table\n",
    "- Select columns for user ID, first name, last name, gender and level and set to `user_df`"
   ]
  },
  {
   "cell_type": "code",
   "execution_count": 24,
   "metadata": {},
   "outputs": [
    {
     "data": {
      "text/html": [
       "<div>\n",
       "<style scoped>\n",
       "    .dataframe tbody tr th:only-of-type {\n",
       "        vertical-align: middle;\n",
       "    }\n",
       "\n",
       "    .dataframe tbody tr th {\n",
       "        vertical-align: top;\n",
       "    }\n",
       "\n",
       "    .dataframe thead th {\n",
       "        text-align: right;\n",
       "    }\n",
       "</style>\n",
       "<table border=\"1\" class=\"dataframe\">\n",
       "  <thead>\n",
       "    <tr style=\"text-align: right;\">\n",
       "      <th></th>\n",
       "      <th>userId</th>\n",
       "      <th>firstName</th>\n",
       "      <th>lastName</th>\n",
       "      <th>gender</th>\n",
       "      <th>level</th>\n",
       "    </tr>\n",
       "  </thead>\n",
       "  <tbody>\n",
       "    <tr>\n",
       "      <th>0</th>\n",
       "      <td>69</td>\n",
       "      <td>Anabelle</td>\n",
       "      <td>Simpson</td>\n",
       "      <td>F</td>\n",
       "      <td>free</td>\n",
       "    </tr>\n",
       "    <tr>\n",
       "      <th>1</th>\n",
       "      <td>44</td>\n",
       "      <td>Aleena</td>\n",
       "      <td>Kirby</td>\n",
       "      <td>F</td>\n",
       "      <td>paid</td>\n",
       "    </tr>\n",
       "    <tr>\n",
       "      <th>2</th>\n",
       "      <td>44</td>\n",
       "      <td>Aleena</td>\n",
       "      <td>Kirby</td>\n",
       "      <td>F</td>\n",
       "      <td>paid</td>\n",
       "    </tr>\n",
       "    <tr>\n",
       "      <th>3</th>\n",
       "      <td>44</td>\n",
       "      <td>Aleena</td>\n",
       "      <td>Kirby</td>\n",
       "      <td>F</td>\n",
       "      <td>paid</td>\n",
       "    </tr>\n",
       "    <tr>\n",
       "      <th>4</th>\n",
       "      <td>44</td>\n",
       "      <td>Aleena</td>\n",
       "      <td>Kirby</td>\n",
       "      <td>F</td>\n",
       "      <td>paid</td>\n",
       "    </tr>\n",
       "  </tbody>\n",
       "</table>\n",
       "</div>"
      ],
      "text/plain": [
       "  userId firstName lastName gender level\n",
       "0     69  Anabelle  Simpson      F  free\n",
       "1     44    Aleena    Kirby      F  paid\n",
       "2     44    Aleena    Kirby      F  paid\n",
       "3     44    Aleena    Kirby      F  paid\n",
       "4     44    Aleena    Kirby      F  paid"
      ]
     },
     "execution_count": 24,
     "metadata": {},
     "output_type": "execute_result"
    }
   ],
   "source": [
    "user_df = df[['userId', 'firstName', 'lastName', 'gender', 'level']]\n",
    "user_df.head()"
   ]
  },
  {
   "cell_type": "markdown",
   "metadata": {},
   "source": [
    "#### Insert Records into Users Table\n",
    "Implement the `user_table_insert` query in `sql_queries.py` and run the cell below to insert records for the users in this log file into the `users` table. Remember to run `create_tables.py` before running the cell below to ensure you've created/resetted the `users` table in the sparkify database."
   ]
  },
  {
   "cell_type": "code",
   "execution_count": 25,
   "metadata": {},
   "outputs": [],
   "source": [
    "for i, row in user_df.iterrows():\n",
    "    cur.execute(users_insert, row)\n",
    "    conn.commit()"
   ]
  },
  {
   "cell_type": "markdown",
   "metadata": {},
   "source": [
    "Run `test.ipynb` to see if you've successfully added records to this table."
   ]
  },
  {
   "cell_type": "markdown",
   "metadata": {},
   "source": [
    "## #5: `songplays` Table\n",
    "#### Extract Data and Songplays Table\n",
    "This one is a little more complicated since information from the songs table, artists table, and original log file are all needed for the `songplays` table. Since the log file does not specify an ID for either the song or the artist, you'll need to get the song ID and artist ID by querying the songs and artists tables to find matches based on song title, artist name, and song duration time.\n",
    "- Implement the `song_select` query in `sql_queries.py` to find the song ID and artist ID based on the title, artist name, and duration of a song.\n",
    "- Select the timestamp, user ID, level, song ID, artist ID, session ID, location, and user agent and set to `songplay_data`\n",
    "\n",
    "#### Insert Records into Songplays Table\n",
    "- Implement the `songplay_table_insert` query and run the cell below to insert records for the songplay actions in this log file into the `songplays` table. Remember to run `create_tables.py` before running the cell below to ensure you've created/resetted the `songplays` table in the sparkify database."
   ]
  },
  {
   "cell_type": "code",
   "execution_count": 28,
   "metadata": {},
   "outputs": [],
   "source": [
    "# insert songplay records\n",
    "for _, row in df.iterrows():\n",
    "    # get song_id and artist_id from song and artist tables\n",
    "    cur.execute(song_select, (row.song, row.artist, row.length))\n",
    "    results = cur.fetchone()\n",
    "    print(results) if results else None\n",
    "    song_id, artist_id = results if results else (None, None)\n",
    "    # insert songplay record\n",
    "    songplay_data = (pd.to_datetime(row.ts, unit='ms'), int(\n",
    "        row.userId), row.level, song_id, artist_id, row.sessionId, row.location, row.userAgent)\n",
    "    cur.execute(songplay_insert, songplay_data)\n",
    "conn.commit()\n"
   ]
  },
  {
   "cell_type": "markdown",
   "metadata": {},
   "source": [
    "Run `test.ipynb` to see if you've successfully added records to this table."
   ]
  },
  {
   "cell_type": "markdown",
   "metadata": {},
   "source": [
    "# Close Connection to Sparkify Database"
   ]
  },
  {
   "cell_type": "code",
   "execution_count": null,
   "metadata": {},
   "outputs": [],
   "source": [
    "conn.close()"
   ]
  },
  {
   "cell_type": "markdown",
   "metadata": {},
   "source": [
    "# Implement `etl.py`\n",
    "Use what you've completed in this notebook to implement `etl.py`."
   ]
  },
  {
   "cell_type": "code",
   "execution_count": null,
   "metadata": {},
   "outputs": [],
   "source": []
  }
 ],
 "metadata": {
  "interpreter": {
   "hash": "8ac58805bd2441824567a09f1e612e4d08054baaaaf30b96090fe0afbb963a51"
  },
  "kernelspec": {
   "display_name": "Python 3.10.4 ('data_engineering')",
   "language": "python",
   "name": "python3"
  },
  "language_info": {
   "codemirror_mode": {
    "name": "ipython",
    "version": 3
   },
   "file_extension": ".py",
   "mimetype": "text/x-python",
   "name": "python",
   "nbconvert_exporter": "python",
   "pygments_lexer": "ipython3",
   "version": "3.10.4"
  }
 },
 "nbformat": 4,
 "nbformat_minor": 2
}
