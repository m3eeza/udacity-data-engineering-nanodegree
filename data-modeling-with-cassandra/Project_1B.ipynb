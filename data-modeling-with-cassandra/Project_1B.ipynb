{
 "cells": [
  {
   "cell_type": "markdown",
   "metadata": {},
   "source": [
    "# Part I. ETL Pipeline for Pre-Processing the Files"
   ]
  },
  {
   "cell_type": "markdown",
   "metadata": {},
   "source": [
    "## PLEASE RUN THE FOLLOWING CODE FOR PRE-PROCESSING THE FILES"
   ]
  },
  {
   "cell_type": "markdown",
   "metadata": {},
   "source": [
    "#### Import Python packages "
   ]
  },
  {
   "cell_type": "code",
   "execution_count": 25,
   "metadata": {},
   "outputs": [],
   "source": [
    "import os\n",
    "\n",
    "from file_utils import FileUtils\n",
    "from cassandra_utils import CassandraUtils"
   ]
  },
  {
   "cell_type": "markdown",
   "metadata": {},
   "source": [
    "#### Configurations"
   ]
  },
  {
   "cell_type": "markdown",
   "metadata": {},
   "source": [
    "Cassandra configuration:"
   ]
  },
  {
   "cell_type": "code",
   "execution_count": 26,
   "metadata": {},
   "outputs": [],
   "source": [
    "cassandra_config = {\n",
    "    'ip' : ['172.17.0.2'],\n",
    "    'replication_factor' : '1',\n",
    "    'replication_class' : 'SimpleStrategy',\n",
    "    'key_space' : 'sparkify',\n",
    "    'tables' : ['music_sessions', 'music_users', 'music_songs']\n",
    "}"
   ]
  },
  {
   "cell_type": "markdown",
   "metadata": {},
   "source": [
    "Event file configuration:"
   ]
  },
  {
   "cell_type": "code",
   "execution_count": 27,
   "metadata": {},
   "outputs": [],
   "source": [
    "event_directory: str = os.getcwd() + '/event_data'\n",
    "    \n",
    "event_file_path = 'event_datafile_new.csv'\n",
    "   \n",
    "headers_new_csv = ['artist','firstName','gender','itemInSession','lastName','length', \\\n",
    "                          'level','location','sessionId','song','userId']\n",
    "\n",
    "pandas_events_schema = {\n",
    "    headers_new_csv[0]:'str',\n",
    "    headers_new_csv[1]:'str',\n",
    "    headers_new_csv[2]:'str',\n",
    "    headers_new_csv[3]:'int',\n",
    "    headers_new_csv[4]:'str',\n",
    "    headers_new_csv[5]:'float',\n",
    "    headers_new_csv[6]:'str',\n",
    "    headers_new_csv[7]:'str',\n",
    "    headers_new_csv[8]:'int32',\n",
    "    headers_new_csv[9]:'str',\n",
    "    headers_new_csv[10]:'int32',\n",
    "}"
   ]
  },
  {
   "cell_type": "markdown",
   "metadata": {},
   "source": [
    "#### Creating list of filepaths to process original event csv data files"
   ]
  },
  {
   "cell_type": "code",
   "execution_count": 28,
   "metadata": {},
   "outputs": [],
   "source": [
    "file_path_list = FileUtils.get_directory_files_list(event_directory, \".csv\")"
   ]
  },
  {
   "cell_type": "markdown",
   "metadata": {},
   "source": [
    "#### Processing the files to create the data file csv that will be used for Apache Casssandra tables"
   ]
  },
  {
   "cell_type": "code",
   "execution_count": 29,
   "metadata": {},
   "outputs": [],
   "source": [
    "df_total = FileUtils.files_to_pd(file_path_list)\n",
    "\n",
    "df_total_interested = df_total[headers_new_csv]\n",
    "df_total_interested = df_total_interested.dropna(subset=['artist'])\n",
    "\n",
    "FileUtils.pd_to_file(event_file_path, df_total_interested)"
   ]
  },
  {
   "cell_type": "markdown",
   "metadata": {},
   "source": [
    "#### Check event file rows"
   ]
  },
  {
   "cell_type": "code",
   "execution_count": 30,
   "metadata": {},
   "outputs": [
    {
     "name": "stdout",
     "output_type": "stream",
     "text": [
      "6821\n"
     ]
    }
   ],
   "source": [
    "print(FileUtils.file_num_rows(event_file_path))"
   ]
  },
  {
   "cell_type": "markdown",
   "metadata": {},
   "source": [
    "#### Read the event file into a pandas dataframe"
   ]
  },
  {
   "cell_type": "code",
   "execution_count": 31,
   "metadata": {},
   "outputs": [],
   "source": [
    "df = FileUtils.read_file_to_pd(event_file_path, pandas_events_schema)"
   ]
  },
  {
   "cell_type": "markdown",
   "metadata": {},
   "source": [
    "# Part II. Complete the Apache Cassandra coding portion of your project. \n",
    "\n",
    "## Now you are ready to work with the CSV file titled <font color=red>event_datafile_new.csv</font>, located within the Workspace directory.  The event_datafile_new.csv contains the following columns: \n",
    "- artist \n",
    "- firstName of user\n",
    "- gender of user\n",
    "- item number in session\n",
    "- last name of user\n",
    "- length of the song\n",
    "- level (paid or free song)\n",
    "- location of the user\n",
    "- sessionId\n",
    "- song title\n",
    "- userId\n",
    "\n",
    "The image below is a screenshot of what the denormalized data should appear like in the <font color=red>**event_datafile_new.csv**</font> after the code above is run:<br>\n",
    "\n",
    "<img src=\"images/image_event_datafile_new.jpg\">"
   ]
  },
  {
   "cell_type": "markdown",
   "metadata": {},
   "source": [
    "## Begin writing your Apache Cassandra code in the cells below"
   ]
  },
  {
   "cell_type": "markdown",
   "metadata": {},
   "source": [
    "#### Creating a Cluster, create and set Keyspace"
   ]
  },
  {
   "cell_type": "code",
   "execution_count": 32,
   "metadata": {},
   "outputs": [
    {
     "name": "stdout",
     "output_type": "stream",
     "text": [
      "\n",
      "            CREATE KEYSPACE IF NOT EXISTS sparkify WITH REPLICATION = { 'class' : 'SimpleStrategy', 'replication_factor' : 1 }\n",
      "        \n"
     ]
    }
   ],
   "source": [
    "cass = CassandraUtils(cassandra_config)\n",
    "session = cass.connect()"
   ]
  },
  {
   "cell_type": "markdown",
   "metadata": {},
   "source": [
    "### Now we need to create tables to run the following queries. Remember, with Apache Cassandra you model the database tables on the queries you want to run."
   ]
  },
  {
   "cell_type": "markdown",
   "metadata": {},
   "source": [
    "## Create queries to ask the following three questions of the data"
   ]
  },
  {
   "cell_type": "markdown",
   "metadata": {},
   "source": [
    "### Query 1: Give me the artist, song title and song's length in the music app history that was heard during sessionId = 338, and itemInSession = 4"
   ]
  },
  {
   "cell_type": "markdown",
   "metadata": {},
   "source": [
    "#### Primary key\n",
    "It is adapted to the the filter of the query. Both fields are part of the partition key. "
   ]
  },
  {
   "cell_type": "code",
   "execution_count": 33,
   "metadata": {},
   "outputs": [],
   "source": [
    "primary_key1 = \"(session_id, item_in_session)\""
   ]
  },
  {
   "cell_type": "markdown",
   "metadata": {},
   "source": [
    "#### Create table\n",
    "The fields required are:\n",
    "- session_id: bigint. It's possible to have a lot of sessions in the future.\n",
    "- item_in_session: int. There's no many items into a session.\n",
    "- artist: text\n",
    "- song_title: text\n",
    "- song_length: decimal"
   ]
  },
  {
   "cell_type": "code",
   "execution_count": 34,
   "metadata": {},
   "outputs": [],
   "source": [
    "fields1 = ['session_id bigint', 'item_in_session int', 'artist text', 'song_title text','song_length float']\n",
    "\n",
    "CassandraUtils.create_table(session, cassandra_config['tables'][0], fields1, primary_key1)                   "
   ]
  },
  {
   "cell_type": "markdown",
   "metadata": {},
   "source": [
    "#### Populate table"
   ]
  },
  {
   "cell_type": "code",
   "execution_count": 35,
   "metadata": {
    "scrolled": false
   },
   "outputs": [],
   "source": [
    "columns_query1 = ['session_id', 'item_in_session', 'artist', 'song_title', 'song_length']\n",
    "df_query1 = ['sessionId', 'itemInSession', 'artist', 'song', 'length']\n",
    "\n",
    "df1 = df[df_query1]\n",
    "\n",
    "CassandraUtils.insert_cassandra_from_df(session, cassandra_config['tables'][0], columns_query1, df1)   "
   ]
  },
  {
   "cell_type": "markdown",
   "metadata": {},
   "source": [
    "#### SELECT to verify that the data have been inserted well"
   ]
  },
  {
   "cell_type": "code",
   "execution_count": 36,
   "metadata": {
    "scrolled": true
   },
   "outputs": [
    {
     "name": "stdout",
     "output_type": "stream",
     "text": [
      "Faithless Music Matters (Mark Knight Dub) 495.30731201171875\n"
     ]
    }
   ],
   "source": [
    "fields = ['artist', 'song_title', 'song_length']\n",
    "conditions = \"session_id = 338 and item_in_session = 4\"\n",
    "rows = CassandraUtils.select(session, fields, cassandra_config['tables'][0], conditions)\n",
    "    \n",
    "for row in rows:\n",
    "    print(row.artist, row.song_title, row.song_length)"
   ]
  },
  {
   "cell_type": "markdown",
   "metadata": {},
   "source": [
    "### Query 2. Give me only the following: name of artist, song (sorted by itemInSession) and user (first and last name) for userid = 10, sessionid = 182"
   ]
  },
  {
   "cell_type": "markdown",
   "metadata": {},
   "source": [
    "#### Primary key\n",
    "It is adapted to the the filter of the query. Either user_id or session_id are part of the PARTITION KEY. I have used item_in_session as CLUSTERing COLUMN because we need the result sortered by that field."
   ]
  },
  {
   "cell_type": "code",
   "execution_count": 37,
   "metadata": {},
   "outputs": [],
   "source": [
    "primary_key2 = \"((user_id, session_id), item_in_session)\""
   ]
  },
  {
   "cell_type": "markdown",
   "metadata": {},
   "source": [
    "#### Create table\n",
    "The fields required are:\n",
    "- user_id: bigint. It's possible to have a lot of users in a future.\n",
    "- session_id: bigint. It's possible to have a lot of sessions in a future.\n",
    "- item_in_session: int. There's no many items into a session.\n",
    "- artist: text\n",
    "- song_title: text\n",
    "- first_name: text\n",
    "- last_name: text"
   ]
  },
  {
   "cell_type": "code",
   "execution_count": 38,
   "metadata": {},
   "outputs": [],
   "source": [
    "fields2 = ['user_id bigint', 'session_id bigint', 'item_in_session int', 'artist text', \\\n",
    "                'song_title text', 'first_name text', 'last_name text']\n",
    "\n",
    "CassandraUtils.create_table(session, cassandra_config['tables'][1], fields2, primary_key2)                          "
   ]
  },
  {
   "cell_type": "markdown",
   "metadata": {},
   "source": [
    "#### Insert info into table"
   ]
  },
  {
   "cell_type": "code",
   "execution_count": 39,
   "metadata": {},
   "outputs": [],
   "source": [
    "columns_query2 = ['user_id', 'session_id', 'item_in_session', 'artist', 'song_title', 'first_name', 'last_name']\n",
    "df_query2 = ['userId', 'sessionId', 'itemInSession', 'artist', 'song', 'firstName', 'lastName']\n",
    "\n",
    "df2 = df[df_query2]\n",
    "\n",
    "CassandraUtils.insert_cassandra_from_df(session, cassandra_config['tables'][1], columns_query2, df2)   "
   ]
  },
  {
   "cell_type": "markdown",
   "metadata": {},
   "source": [
    "#### SELECT to verify that the data have been inserted well"
   ]
  },
  {
   "cell_type": "code",
   "execution_count": 40,
   "metadata": {},
   "outputs": [
    {
     "name": "stdout",
     "output_type": "stream",
     "text": [
      "Down To The Bone Keep On Keepin' On Sylvie Cruz\n",
      "Three Drives Greece 2000 Sylvie Cruz\n",
      "Sebastien Tellier Kilometer Sylvie Cruz\n",
      "Lonnie Gordon Catch You Baby (Steve Pitron & Max Sanna Radio Edit) Sylvie Cruz\n"
     ]
    }
   ],
   "source": [
    "fields = ['artist', 'song_title', 'first_name', 'last_name']\n",
    "conditions = \"user_id = 10 and session_id = 182\"\n",
    "rows = CassandraUtils.select(session, fields, cassandra_config['tables'][1], conditions)\n",
    "    \n",
    "for row in rows:\n",
    "    print (row.artist, row.song_title, row.first_name, row.last_name)"
   ]
  },
  {
   "cell_type": "markdown",
   "metadata": {},
   "source": [
    "### Query 3. Give me every user name (first and last) in my music app history who listened to the song 'All Hands Against His Own'"
   ]
  },
  {
   "cell_type": "markdown",
   "metadata": {},
   "source": [
    "#### Primary key\n",
    "\n",
    "It is adapted to the the filter of the query. We need to partition using song but since it's not unique we use user id too."
   ]
  },
  {
   "cell_type": "code",
   "execution_count": 41,
   "metadata": {},
   "outputs": [],
   "source": [
    "primary_key3 = \"(song, user_id)\""
   ]
  },
  {
   "cell_type": "markdown",
   "metadata": {},
   "source": [
    "#### Create table\n",
    "The fields required are:\n",
    "- song: text\n",
    "- user_id bigint\n",
    "- first_name: text\n",
    "- last_name: text"
   ]
  },
  {
   "cell_type": "code",
   "execution_count": 42,
   "metadata": {},
   "outputs": [],
   "source": [
    "fields3 = ['song text', 'user_id bigint', 'first_name text', 'last_name text']\n",
    "\n",
    "CassandraUtils.create_table(session, cassandra_config['tables'][2], fields3, primary_key3)                                              "
   ]
  },
  {
   "cell_type": "markdown",
   "metadata": {},
   "source": [
    "#### Insert info into table"
   ]
  },
  {
   "cell_type": "code",
   "execution_count": 43,
   "metadata": {},
   "outputs": [],
   "source": [
    "columns_query3 = ['song', 'user_id', 'first_name', 'last_name']\n",
    "df_query3 = ['song', 'userId', 'firstName', 'lastName']\n",
    "\n",
    "df3 = df[df_query3]\n",
    "\n",
    "CassandraUtils.insert_cassandra_from_df(session, cassandra_config['tables'][2], columns_query3, df3)   "
   ]
  },
  {
   "cell_type": "markdown",
   "metadata": {},
   "source": [
    "#### SELECT to verify that the data have been inserted well"
   ]
  },
  {
   "cell_type": "code",
   "execution_count": 44,
   "metadata": {},
   "outputs": [
    {
     "name": "stdout",
     "output_type": "stream",
     "text": [
      "Jacqueline Lynch\n",
      "Tegan Levine\n",
      "Sara Johnson\n"
     ]
    }
   ],
   "source": [
    "fields = ['first_name', 'last_name']\n",
    "conditions = \"song = 'All Hands Against His Own'\"\n",
    "rows = CassandraUtils.select(session, fields, cassandra_config['tables'][2], conditions)\n",
    "    \n",
    "for row in rows:\n",
    "    print (row.first_name, row.last_name)"
   ]
  },
  {
   "cell_type": "markdown",
   "metadata": {},
   "source": [
    "### Drop the tables before closing out the sessions"
   ]
  },
  {
   "cell_type": "code",
   "execution_count": 45,
   "metadata": {},
   "outputs": [],
   "source": [
    "for table in cassandra_config['tables']:\n",
    "    CassandraUtils.drop_table(session, table)"
   ]
  },
  {
   "cell_type": "markdown",
   "metadata": {},
   "source": [
    "### Close the session and cluster connection"
   ]
  },
  {
   "cell_type": "code",
   "execution_count": null,
   "metadata": {},
   "outputs": [],
   "source": [
    "cass.disconnect(session)"
   ]
  }
 ],
 "metadata": {
  "kernelspec": {
   "display_name": "Python 3.10.4 ('data_engineering')",
   "language": "python",
   "name": "python3"
  },
  "language_info": {
   "codemirror_mode": {
    "name": "ipython",
    "version": 3
   },
   "file_extension": ".py",
   "mimetype": "text/x-python",
   "name": "python",
   "nbconvert_exporter": "python",
   "pygments_lexer": "ipython3",
   "version": "3.10.4"
  },
  "vscode": {
   "interpreter": {
    "hash": "8ac58805bd2441824567a09f1e612e4d08054baaaaf30b96090fe0afbb963a51"
   }
  }
 },
 "nbformat": 4,
 "nbformat_minor": 2
}
